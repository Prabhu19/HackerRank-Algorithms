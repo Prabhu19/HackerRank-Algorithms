{
 "cells": [
  {
   "cell_type": "code",
   "execution_count": 2,
   "metadata": {
    "collapsed": false
   },
   "outputs": [
    {
     "name": "stdout",
     "output_type": "stream",
     "text": [
      "5\n",
      "5\n",
      "1 2 3 4 5 \n",
      "The item is present in the list at Position >>>>>\n",
      "4\n"
     ]
    }
   ],
   "source": [
    "\n",
    "# Find the Index of the item in the list \n",
    "\n",
    "ITEM = int(input().strip())\n",
    "\n",
    "N = int(input().strip())\n",
    "\n",
    "LIST1 = [ int(item) for item in input().split() ]\n",
    "\n",
    "\n",
    "print(\"The item is present in the list at Position >>>>>\")\n",
    "print(LIST1.index(ITEM))"
   ]
  }
 ],
 "metadata": {
  "kernelspec": {
   "display_name": "Python [Root]",
   "language": "python",
   "name": "Python [Root]"
  },
  "language_info": {
   "codemirror_mode": {
    "name": "ipython",
    "version": 3
   },
   "file_extension": ".py",
   "mimetype": "text/x-python",
   "name": "python",
   "nbconvert_exporter": "python",
   "pygments_lexer": "ipython3",
   "version": "3.5.2"
  }
 },
 "nbformat": 4,
 "nbformat_minor": 0
}
