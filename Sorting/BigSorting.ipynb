{
 "cells": [
  {
   "cell_type": "code",
   "execution_count": 34,
   "metadata": {
    "collapsed": false
   },
   "outputs": [],
   "source": [
    "##################################################\n",
    "#            BUCKET SORTING ALGORITHM          ###\n",
    "##################################################\n",
    "\n",
    "def Solution(N):\n",
    "    \n",
    "    # dictionary to hold the length and a list of values. \n",
    "    # for example\n",
    "    # dict1[3] = [123,456,789,102]\n",
    "    dict1 = {}\n",
    "    \n",
    "    print(\"Getting the values which is to be Sorted >>>>>>>\")\n",
    "    # Now loop N times to get the items\n",
    "    for i in range(N):\n",
    "        str1 = input().strip()\n",
    "        # get the length of the string\n",
    "        length = len(str1)\n",
    "        \n",
    "        \n",
    "        # if length is not present in the dict  then create a list for that key\n",
    "        if length not in dict1:\n",
    "            dict1[length] = []\n",
    "        \n",
    "        # Now the list is created for each length append the value to the list. \n",
    "        # point to be noted here is that we are appending String to the dictionary instead of the integer \n",
    "        # if integer is appended it will fail as integer comparison is costly.\n",
    "        dict1[length].append(str1)\n",
    "    \n",
    "    #print(dict1)\n",
    "    \n",
    "    print(\"\\n\\n Printing the values after sorting >>>>>>>>\")\n",
    "    # sort  the keys first \n",
    "    for item in sorted(dict1):\n",
    "        #print(item)\n",
    "        # sort the list for each keys\n",
    "        for item1 in sorted(dict1[item]):\n",
    "            print(item1)\n",
    "            "
   ]
  },
  {
   "cell_type": "code",
   "execution_count": 35,
   "metadata": {
    "collapsed": false
   },
   "outputs": [
    {
     "name": "stdout",
     "output_type": "stream",
     "text": [
      "6\n"
     ]
    }
   ],
   "source": [
    "# Get the Number of items to be sorted..\n",
    "N = int(input().strip())"
   ]
  },
  {
   "cell_type": "code",
   "execution_count": 37,
   "metadata": {
    "collapsed": false
   },
   "outputs": [
    {
     "name": "stdout",
     "output_type": "stream",
     "text": [
      "Getting the values which is to be Sorted >>>>>>>\n",
      "31415926535897932384626433832795\n",
      "1\n",
      "3\n",
      "10\n",
      "3\n",
      "5\n",
      "\n",
      "\n",
      " Printing the values after sorting >>>>>>>>\n",
      "1\n",
      "3\n",
      "3\n",
      "5\n",
      "10\n",
      "31415926535897932384626433832795\n"
     ]
    }
   ],
   "source": [
    "# Call the bucket sorting Algorithm. \n",
    "Solution(N)"
   ]
  },
  {
   "cell_type": "code",
   "execution_count": null,
   "metadata": {
    "collapsed": true
   },
   "outputs": [],
   "source": []
  }
 ],
 "metadata": {
  "anaconda-cloud": {},
  "kernelspec": {
   "display_name": "Python [Root]",
   "language": "python",
   "name": "Python [Root]"
  },
  "language_info": {
   "codemirror_mode": {
    "name": "ipython",
    "version": 3
   },
   "file_extension": ".py",
   "mimetype": "text/x-python",
   "name": "python",
   "nbconvert_exporter": "python",
   "pygments_lexer": "ipython3",
   "version": "3.5.2"
  }
 },
 "nbformat": 4,
 "nbformat_minor": 0
}
