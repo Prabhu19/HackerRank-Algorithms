{
 "cells": [
  {
   "cell_type": "markdown",
   "metadata": {},
   "source": [
    "In Insertion Sort Part 1, you sorted one element into an array. Using the same approach repeatedly, \n",
    "can you sort an entire unsorted array?\n",
    "\n",
    "Guideline: You already can place an element into a sorted array. \n",
    "How can you use that code to build up a sorted array, one element at a time? Note that in the first step, \n",
    "when you consider an array with just the first element - that is already \"sorted\" \n",
    "since there's nothing to its left that is smaller.\n",
    "\n",
    "In this challenge, don't print every time you move an element. Instead, \n",
    "print the array after each iteration of the insertion-sort, \n",
    "i.e., whenever the next element is placed at its correct position.\n",
    "\n",
    "Since the array composed of just the first element is already \"sorted\", \n",
    "begin printing from the second element and on."
   ]
  },
  {
   "cell_type": "markdown",
   "metadata": {},
   "source": [
    "Input Format \n",
    "There will be two lines of input:\n",
    "\n",
    "#s - the size of the array\n",
    "#ar - a list of numbers that makes up the array\n"
   ]
  },
  {
   "cell_type": "code",
   "execution_count": null,
   "metadata": {
    "collapsed": true
   },
   "outputs": [],
   "source": []
  },
  {
   "cell_type": "markdown",
   "metadata": {},
   "source": [
    "Output Format \n",
    "On each line, output the entire array at every iteration."
   ]
  },
  {
   "cell_type": "markdown",
   "metadata": {},
   "source": [
    "Sample Input\n",
    "\n",
    "#6\n",
    "#1 4 3 5 6 2"
   ]
  },
  {
   "cell_type": "code",
   "execution_count": null,
   "metadata": {
    "collapsed": true
   },
   "outputs": [],
   "source": []
  },
  {
   "cell_type": "markdown",
   "metadata": {},
   "source": [
    "#Sample Output\n",
    "\n",
    "#1 4 3 5 6 2 \n",
    "#1 3 4 5 6 2 \n",
    "#1 3 4 5 6 2 \n",
    "#1 3 4 5 6 2 \n",
    "#1 2 3 4 5 6 \n"
   ]
  },
  {
   "cell_type": "markdown",
   "metadata": {},
   "source": [
    "Explanation \n",
    "#Insertion Sort checks  4 first and doesn't need to move it, so it just prints out the array. \n",
    "Next, 3 is inserted next to 1 , and the array is printed out. \n",
    "This continues one element at a time until the entire array is sorted."
   ]
  },
  {
   "cell_type": "code",
   "execution_count": 53,
   "metadata": {
    "collapsed": true
   },
   "outputs": [],
   "source": [
    "def InsertionSort(list1):\n",
    "    # skip the zero position start from the 1st position.\n",
    "    for i in range(1,len(list1)):\n",
    "        item = list1[i]\n",
    "        #print(\"Item to be Inserted is >>>> \"+str(item))\n",
    "        \n",
    "        \n",
    "        # call the function which does the second loop\n",
    "        j = i-1\n",
    "        while j >= 0  and item < list1[j]:\n",
    "            # swap the elements till item is greater than the list item\n",
    "            list1[j+1] = list1[j]\n",
    "            # decrement the value of j \n",
    "            j = j -1\n",
    "        \n",
    "        \n",
    "        #print(list1)\n",
    "        # Now that we have identified the position of j print the valye of j\n",
    "        #print(\"The position where the value of J to be inserted is \"+ str(j+1))\n",
    "        \n",
    "        # Now Insert the item at that position\n",
    "        list1[j+1] = item \n",
    "        \n",
    "        print(' '.join([str(num) for num in list1]))\n",
    "        \n",
    "    "
   ]
  },
  {
   "cell_type": "code",
   "execution_count": null,
   "metadata": {
    "collapsed": true
   },
   "outputs": [],
   "source": []
  },
  {
   "cell_type": "code",
   "execution_count": 54,
   "metadata": {
    "collapsed": false
   },
   "outputs": [
    {
     "name": "stdout",
     "output_type": "stream",
     "text": [
      "6\n",
      "THE VALUE OF N IS 6\n",
      "1 4 3 5 6 2\n",
      "Printing the value of List1[1, 4, 3, 5, 6, 2]\n"
     ]
    }
   ],
   "source": [
    "# Get the number of elements in the list \n",
    "\n",
    "N = int(input().strip())\n",
    "\n",
    "print(\"THE VALUE OF N IS \"+str(N))\n",
    "\n",
    "\n",
    "LIST1 = [int(item) for item in input().split()]\n",
    "\n",
    "print(\"Printing the value of List1\"+str(LIST1))"
   ]
  },
  {
   "cell_type": "code",
   "execution_count": 55,
   "metadata": {
    "collapsed": false
   },
   "outputs": [
    {
     "name": "stdout",
     "output_type": "stream",
     "text": [
      "1 4 3 5 6 2\n",
      "1 3 4 5 6 2\n",
      "1 3 4 5 6 2\n",
      "1 3 4 5 6 2\n",
      "1 2 3 4 5 6\n"
     ]
    }
   ],
   "source": [
    "# call the function which performs the sorting... \n",
    "InsertionSort(LIST1)"
   ]
  }
 ],
 "metadata": {
  "kernelspec": {
   "display_name": "Python [Root]",
   "language": "python",
   "name": "Python [Root]"
  },
  "language_info": {
   "codemirror_mode": {
    "name": "ipython",
    "version": 3
   },
   "file_extension": ".py",
   "mimetype": "text/x-python",
   "name": "python",
   "nbconvert_exporter": "python",
   "pygments_lexer": "ipython3",
   "version": "3.5.2"
  }
 },
 "nbformat": 4,
 "nbformat_minor": 0
}
